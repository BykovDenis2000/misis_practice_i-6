{
 "cells": [
  {
   "cell_type": "code",
   "execution_count": 54,
   "metadata": {},
   "outputs": [],
   "source": [
    "import json\n",
    "import numpy as np\n",
    "import statistics\n",
    "import os\n",
    "import csv\n",
    "import pandas as pd"
   ]
  },
  {
   "cell_type": "code",
   "execution_count": 55,
   "metadata": {},
   "outputs": [],
   "source": [
    "def data_preparation(data):\n",
    "    widthList = []\n",
    "    heightList = []\n",
    "    lengthList = []\n",
    "    volumeList = []\n",
    "    countStacking = 0\n",
    "    countTurnover = 0\n",
    "    boxesCount = 0\n",
    "    for x in data['data_result']['boxes']:\n",
    "        widthList.append(x['size']['width'])\n",
    "        heightList.append(x['size']['height'])\n",
    "        lengthList.append(x['size']['length'])\n",
    "        volumeList.append(x['size']['width']*x['size']['height']*x['size']['length'])\n",
    "        if x['stacking'] == True:\n",
    "            countStacking += 1\n",
    "        if x['turnover'] == True:\n",
    "            countTurnover += 1\n",
    "        boxesCount += 1\n",
    "    meanWidth = statistics.mean(widthList)\n",
    "    meanHeight = statistics.mean(heightList)\n",
    "    meanLength = statistics.mean(lengthList)\n",
    "    meanVolume = statistics.mean(volumeList)\n",
    "\n",
    "    loadingWidth = data['data_result']['cargo_space']['loading_size']['width']\n",
    "    loadingHeight = data['data_result']['cargo_space']['loading_size']['height']\n",
    "    loadingLength = data['data_result']['cargo_space']['loading_size']['length']\n",
    "\n",
    "    density_percent = data['data_result']['cargo_space']['calculation_info']['density_percent']\n",
    "\n",
    "    values = [meanWidth, meanHeight, meanLength, meanVolume, countStacking,\n",
    "              countTurnover, boxesCount, loadingWidth, loadingHeight,\n",
    "              loadingLength, density_percent]\n",
    "    \n",
    "    return values"
   ]
  },
  {
   "cell_type": "code",
   "execution_count": 60,
   "metadata": {},
   "outputs": [],
   "source": [
    "def write_to_csv(param):\n",
    "  field = ['meanWidth','meanHeight','meanLength','meanVolume','countStacking',\n",
    "           'countTurnover', 'boxesCount', 'loadingWidth', 'loadingHeight',\n",
    "           'loadingLength', 'density_percent']\n",
    "  filename = 'data.csv'\n",
    "  with open(filename, 'w', newline='') as file:\n",
    "    writer = csv.writer(file)\n",
    "    writer.writerow(field)\n",
    "    writer.writerows(param)"
   ]
  },
  {
   "cell_type": "code",
   "execution_count": 57,
   "metadata": {},
   "outputs": [],
   "source": [
    "folder_path = 'ALGORITM/'\n",
    "\n",
    "file_list = os.listdir(folder_path)\n",
    "\n",
    "param = []\n",
    "\n",
    "for file_name in file_list:\n",
    "    # Проверяем, что файл имеет расширение .json\n",
    "    if file_name.endswith('.json'):\n",
    "        # Формируем полный путь к файлу\n",
    "        file_path = os.path.join(folder_path, file_name)\n",
    "        \n",
    "        # Открываем файл и читаем его содержимое\n",
    "        jsonFile = open(file_path, 'r', encoding='utf-8')\n",
    "        # Загружаем JSON-данные\n",
    "        data = json.load(jsonFile)\n",
    "        new_row = data_preparation(data)\n",
    "        param.append(new_row)\n",
    "        jsonFile.close()\n"
   ]
  },
  {
   "cell_type": "code",
   "execution_count": 61,
   "metadata": {},
   "outputs": [],
   "source": [
    "#запись в файл csv\n",
    "write_to_csv(param)"
   ]
  },
  {
   "cell_type": "code",
   "execution_count": 62,
   "metadata": {},
   "outputs": [
    {
     "data": {
      "text/html": [
       "<div>\n",
       "<style scoped>\n",
       "    .dataframe tbody tr th:only-of-type {\n",
       "        vertical-align: middle;\n",
       "    }\n",
       "\n",
       "    .dataframe tbody tr th {\n",
       "        vertical-align: top;\n",
       "    }\n",
       "\n",
       "    .dataframe thead th {\n",
       "        text-align: right;\n",
       "    }\n",
       "</style>\n",
       "<table border=\"1\" class=\"dataframe\">\n",
       "  <thead>\n",
       "    <tr style=\"text-align: right;\">\n",
       "      <th></th>\n",
       "      <th>meanWidth</th>\n",
       "      <th>meanHeight</th>\n",
       "      <th>meanLength</th>\n",
       "      <th>meanVolume</th>\n",
       "      <th>countStacking</th>\n",
       "      <th>countTurnover</th>\n",
       "      <th>boxesCount</th>\n",
       "      <th>loadingWidth</th>\n",
       "      <th>loadingHeight</th>\n",
       "      <th>loadingLength</th>\n",
       "      <th>density_percent</th>\n",
       "    </tr>\n",
       "  </thead>\n",
       "  <tbody>\n",
       "    <tr>\n",
       "      <th>0</th>\n",
       "      <td>130.962963</td>\n",
       "      <td>175.966667</td>\n",
       "      <td>214.596296</td>\n",
       "      <td>5.811433e+06</td>\n",
       "      <td>270</td>\n",
       "      <td>270</td>\n",
       "      <td>270</td>\n",
       "      <td>800.0</td>\n",
       "      <td>2000.0</td>\n",
       "      <td>1200.0</td>\n",
       "      <td>81.76416</td>\n",
       "    </tr>\n",
       "    <tr>\n",
       "      <th>1</th>\n",
       "      <td>300.000000</td>\n",
       "      <td>250.000000</td>\n",
       "      <td>400.000000</td>\n",
       "      <td>3.000000e+07</td>\n",
       "      <td>33</td>\n",
       "      <td>0</td>\n",
       "      <td>33</td>\n",
       "      <td>800.0</td>\n",
       "      <td>2000.0</td>\n",
       "      <td>1200.0</td>\n",
       "      <td>82.50000</td>\n",
       "    </tr>\n",
       "    <tr>\n",
       "      <th>2</th>\n",
       "      <td>800.000000</td>\n",
       "      <td>1550.000000</td>\n",
       "      <td>1200.000000</td>\n",
       "      <td>1.488000e+09</td>\n",
       "      <td>0</td>\n",
       "      <td>0</td>\n",
       "      <td>17</td>\n",
       "      <td>2500.0</td>\n",
       "      <td>2100.0</td>\n",
       "      <td>7500.0</td>\n",
       "      <td>94.44444</td>\n",
       "    </tr>\n",
       "    <tr>\n",
       "      <th>3</th>\n",
       "      <td>278.787879</td>\n",
       "      <td>269.696970</td>\n",
       "      <td>415.151515</td>\n",
       "      <td>3.230303e+07</td>\n",
       "      <td>33</td>\n",
       "      <td>33</td>\n",
       "      <td>33</td>\n",
       "      <td>800.0</td>\n",
       "      <td>1650.0</td>\n",
       "      <td>1200.0</td>\n",
       "      <td>74.02778</td>\n",
       "    </tr>\n",
       "    <tr>\n",
       "      <th>4</th>\n",
       "      <td>800.000000</td>\n",
       "      <td>1600.000000</td>\n",
       "      <td>1200.000000</td>\n",
       "      <td>1.536000e+09</td>\n",
       "      <td>0</td>\n",
       "      <td>0</td>\n",
       "      <td>33</td>\n",
       "      <td>2490.0</td>\n",
       "      <td>2590.0</td>\n",
       "      <td>13490.0</td>\n",
       "      <td>100.00000</td>\n",
       "    </tr>\n",
       "  </tbody>\n",
       "</table>\n",
       "</div>"
      ],
      "text/plain": [
       "    meanWidth   meanHeight   meanLength    meanVolume  countStacking  \\\n",
       "0  130.962963   175.966667   214.596296  5.811433e+06            270   \n",
       "1  300.000000   250.000000   400.000000  3.000000e+07             33   \n",
       "2  800.000000  1550.000000  1200.000000  1.488000e+09              0   \n",
       "3  278.787879   269.696970   415.151515  3.230303e+07             33   \n",
       "4  800.000000  1600.000000  1200.000000  1.536000e+09              0   \n",
       "\n",
       "   countTurnover  boxesCount  loadingWidth  loadingHeight  loadingLength  \\\n",
       "0            270         270         800.0         2000.0         1200.0   \n",
       "1              0          33         800.0         2000.0         1200.0   \n",
       "2              0          17        2500.0         2100.0         7500.0   \n",
       "3             33          33         800.0         1650.0         1200.0   \n",
       "4              0          33        2490.0         2590.0        13490.0   \n",
       "\n",
       "   density_percent  \n",
       "0         81.76416  \n",
       "1         82.50000  \n",
       "2         94.44444  \n",
       "3         74.02778  \n",
       "4        100.00000  "
      ]
     },
     "execution_count": 62,
     "metadata": {},
     "output_type": "execute_result"
    }
   ],
   "source": [
    "df = pd.read_csv('data.csv')\n",
    "df.head(5)"
   ]
  },
  {
   "cell_type": "code",
   "execution_count": 68,
   "metadata": {},
   "outputs": [
    {
     "data": {
      "text/plain": [
       "<matplotlib.collections.PathCollection at 0x17b8a3b2130>"
      ]
     },
     "execution_count": 68,
     "metadata": {},
     "output_type": "execute_result"
    },
    {
     "data": {
      "image/png": "[encoded data removed]",
      "text/plain": [
       "<Figure size 432x288 with 1 Axes>"
      ]
     },
     "metadata": {
      "needs_background": "light"
     },
     "output_type": "display_data"
    }
   ],
   "source": [
    "import matplotlib.pyplot as plt\n",
    "\n",
    "%matplotlib inline\n",
    "plt.scatter(df.countTurnover,df.density_percent)"
   ]
  },
  {
   "cell_type": "code",
   "execution_count": null,
   "metadata": {},
   "outputs": [],
   "source": []
  }
 ],
 "metadata": {
  "kernelspec": {
   "display_name": "Python 3",
   "language": "python",
   "name": "python3"
  },
  "language_info": {
   "codemirror_mode": {
    "name": "ipython",
    "version": 3
   },
   "file_extension": ".py",
   "mimetype": "text/x-python",
   "name": "python",
   "nbconvert_exporter": "python",
   "pygments_lexer": "ipython3",
   "version": "3.9.1"
  },
  "orig_nbformat": 4
 },
 "nbformat": 4,
 "nbformat_minor": 2
}
